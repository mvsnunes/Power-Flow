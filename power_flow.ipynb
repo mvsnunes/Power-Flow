{
 "cells": [
  {
   "cell_type": "markdown",
   "id": "ba60b06f",
   "metadata": {},
   "source": [
    "# Packages"
   ]
  },
  {
   "cell_type": "code",
   "execution_count": 1,
   "id": "ab6fc147",
   "metadata": {},
   "outputs": [],
   "source": [
    "from utils import *"
   ]
  },
  {
   "cell_type": "markdown",
   "id": "fbac7e16",
   "metadata": {},
   "source": [
    "# Construction of the Admittance Matrix"
   ]
  },
  {
   "cell_type": "code",
   "execution_count": 2,
   "id": "53b29584",
   "metadata": {},
   "outputs": [
    {
     "data": {
      "application/vnd.microsoft.datawrangler.viewer.v0+json": {
       "columns": [
        {
         "name": "index",
         "rawType": "object",
         "type": "string"
        },
        {
         "name": "Bus 1",
         "rawType": "complex128",
         "type": "unknown"
        },
        {
         "name": "Bus 2",
         "rawType": "complex128",
         "type": "unknown"
        },
        {
         "name": "Bus 3",
         "rawType": "complex128",
         "type": "unknown"
        },
        {
         "name": "Bus 4",
         "rawType": "complex128",
         "type": "unknown"
        },
        {
         "name": "Bus 5",
         "rawType": "complex128",
         "type": "unknown"
        }
       ],
       "conversionMethod": "pd.DataFrame",
       "ref": "aa0892a9-a3f7-4278-b809-7cb41850afb9",
       "rows": [
        [
         "Bus 1",
         "(3.729-49.7203j)",
         "0j",
         "0j",
         "0j",
         "(-3.729+49.7203j)"
        ],
        [
         "Bus 2",
         "0j",
         "(2.6783-28.459j)",
         "0j",
         "(-0.8928+9.9197j)",
         "(-1.7855+19.8393j)"
        ],
        [
         "Bus 3",
         "0j",
         "0j",
         "(7.458-99.4406j)",
         "(-7.458+99.4406j)",
         "0j"
        ],
        [
         "Bus 4",
         "0j",
         "(-0.8928+9.9197j)",
         "(-7.458+99.4406j)",
         "(11.9219-147.9589j)",
         "(-3.5711+39.6786j)"
        ],
        [
         "Bus 5",
         "(-3.729+49.7203j)",
         "(-1.7855+19.8393j)",
         "0j",
         "(-3.5711+39.6786j)",
         "(9.0856-108.5782j)"
        ]
       ],
       "shape": {
        "columns": 5,
        "rows": 5
       }
      },
      "text/html": [
       "<div>\n",
       "<style scoped>\n",
       "    .dataframe tbody tr th:only-of-type {\n",
       "        vertical-align: middle;\n",
       "    }\n",
       "\n",
       "    .dataframe tbody tr th {\n",
       "        vertical-align: top;\n",
       "    }\n",
       "\n",
       "    .dataframe thead th {\n",
       "        text-align: right;\n",
       "    }\n",
       "</style>\n",
       "<table border=\"1\" class=\"dataframe\">\n",
       "  <thead>\n",
       "    <tr style=\"text-align: right;\">\n",
       "      <th></th>\n",
       "      <th>Bus 1</th>\n",
       "      <th>Bus 2</th>\n",
       "      <th>Bus 3</th>\n",
       "      <th>Bus 4</th>\n",
       "      <th>Bus 5</th>\n",
       "    </tr>\n",
       "  </thead>\n",
       "  <tbody>\n",
       "    <tr>\n",
       "      <th>Bus 1</th>\n",
       "      <td>3.7290-49.7203j</td>\n",
       "      <td>0.0000+ 0.0000j</td>\n",
       "      <td>0.0000+ 0.0000j</td>\n",
       "      <td>0.0000+  0.0000j</td>\n",
       "      <td>-3.7290+ 49.7203j</td>\n",
       "    </tr>\n",
       "    <tr>\n",
       "      <th>Bus 2</th>\n",
       "      <td>0.0000+ 0.0000j</td>\n",
       "      <td>2.6783-28.4590j</td>\n",
       "      <td>0.0000+ 0.0000j</td>\n",
       "      <td>-0.8928+  9.9197j</td>\n",
       "      <td>-1.7855+ 19.8393j</td>\n",
       "    </tr>\n",
       "    <tr>\n",
       "      <th>Bus 3</th>\n",
       "      <td>0.0000+ 0.0000j</td>\n",
       "      <td>0.0000+ 0.0000j</td>\n",
       "      <td>7.4580-99.4406j</td>\n",
       "      <td>-7.4580+ 99.4406j</td>\n",
       "      <td>0.0000+  0.0000j</td>\n",
       "    </tr>\n",
       "    <tr>\n",
       "      <th>Bus 4</th>\n",
       "      <td>0.0000+ 0.0000j</td>\n",
       "      <td>-0.8928+ 9.9197j</td>\n",
       "      <td>-7.4580+99.4406j</td>\n",
       "      <td>11.9219-147.9589j</td>\n",
       "      <td>-3.5711+ 39.6786j</td>\n",
       "    </tr>\n",
       "    <tr>\n",
       "      <th>Bus 5</th>\n",
       "      <td>-3.7290+49.7203j</td>\n",
       "      <td>-1.7855+19.8393j</td>\n",
       "      <td>0.0000+ 0.0000j</td>\n",
       "      <td>-3.5711+ 39.6786j</td>\n",
       "      <td>9.0856-108.5782j</td>\n",
       "    </tr>\n",
       "  </tbody>\n",
       "</table>\n",
       "</div>"
      ],
      "text/plain": [
       "                 Bus 1            Bus 2            Bus 3              Bus 4  \\\n",
       "Bus 1  3.7290-49.7203j  0.0000+ 0.0000j  0.0000+ 0.0000j   0.0000+  0.0000j   \n",
       "Bus 2  0.0000+ 0.0000j  2.6783-28.4590j  0.0000+ 0.0000j  -0.8928+  9.9197j   \n",
       "Bus 3  0.0000+ 0.0000j  0.0000+ 0.0000j  7.4580-99.4406j  -7.4580+ 99.4406j   \n",
       "Bus 4  0.0000+ 0.0000j -0.8928+ 9.9197j -7.4580+99.4406j  11.9219-147.9589j   \n",
       "Bus 5 -3.7290+49.7203j -1.7855+19.8393j  0.0000+ 0.0000j  -3.5711+ 39.6786j   \n",
       "\n",
       "                  Bus 5  \n",
       "Bus 1 -3.7290+ 49.7203j  \n",
       "Bus 2 -1.7855+ 19.8393j  \n",
       "Bus 3  0.0000+  0.0000j  \n",
       "Bus 4 -3.5711+ 39.6786j  \n",
       "Bus 5  9.0856-108.5782j  "
      ]
     },
     "execution_count": 2,
     "metadata": {},
     "output_type": "execute_result"
    }
   ],
   "source": [
    "shunt_admittance = {\n",
    "   (2, 4): 0 + 1.72j,\n",
    "    (2, 5): 0 + 0.88j,\n",
    "    (4, 5): 0 + 0.44j,\n",
    "}\n",
    "\n",
    "impedance = {\n",
    "    (1, 5): 0.00150 + 0.02j,\n",
    "    (3, 4): 0.00075 + 0.01j,\n",
    "    (2, 4): 0.0090 + 0.1j,\n",
    "    (2, 5): 0.0045 + 0.050j,\n",
    "    (4, 5): 0.00225 + 0.025j,\n",
    "}\n",
    "nodes = sorted(set(i for par in impedance for i in par))\n",
    "node_map = {no: idx for idx, no in enumerate(nodes)}\n",
    "Ybus = compute_y_bus(impedance,shunt_admittance)\n",
    "df_Ybus = pd.DataFrame(Ybus, index=[f\"Bus {i}\" for i in nodes], columns=[f\"Bus {i}\" for i in nodes])\n",
    "df_Ybus = df_Ybus.round(4)\n",
    "df_Ybus"
   ]
  },
  {
   "cell_type": "markdown",
   "id": "88d16469",
   "metadata": {},
   "source": [
    "# Power Flow (Newton-Raphson Method)"
   ]
  },
  {
   "cell_type": "code",
   "execution_count": 7,
   "id": "e51beea5",
   "metadata": {},
   "outputs": [
    {
     "name": "stdout",
     "output_type": "stream",
     "text": [
      "Converged in 107 iterations!\n",
      "Final voltages:\n"
     ]
    },
    {
     "data": {
      "application/vnd.microsoft.datawrangler.viewer.v0+json": {
       "columns": [
        {
         "name": "index",
         "rawType": "object",
         "type": "string"
        },
        {
         "name": "Magnitude (pu)",
         "rawType": "float64",
         "type": "float"
        },
        {
         "name": "Angle (deg)",
         "rawType": "float64",
         "type": "float"
        }
       ],
       "conversionMethod": "pd.DataFrame",
       "ref": "15894243-51b9-4cd4-9d5f-69093a700580",
       "rows": [
        [
         "Bus 1",
         "1.0",
         "0.0"
        ],
        [
         "Bus 2",
         "0.8338",
         "-22.4064"
        ],
        [
         "Bus 3",
         "1.05",
         "-0.5973"
        ],
        [
         "Bus 4",
         "1.0193",
         "-2.834"
        ],
        [
         "Bus 5",
         "0.9743",
         "-4.5479"
        ]
       ],
       "shape": {
        "columns": 2,
        "rows": 5
       }
      },
      "text/html": [
       "<div>\n",
       "<style scoped>\n",
       "    .dataframe tbody tr th:only-of-type {\n",
       "        vertical-align: middle;\n",
       "    }\n",
       "\n",
       "    .dataframe tbody tr th {\n",
       "        vertical-align: top;\n",
       "    }\n",
       "\n",
       "    .dataframe thead th {\n",
       "        text-align: right;\n",
       "    }\n",
       "</style>\n",
       "<table border=\"1\" class=\"dataframe\">\n",
       "  <thead>\n",
       "    <tr style=\"text-align: right;\">\n",
       "      <th></th>\n",
       "      <th>Magnitude (pu)</th>\n",
       "      <th>Angle (deg)</th>\n",
       "    </tr>\n",
       "  </thead>\n",
       "  <tbody>\n",
       "    <tr>\n",
       "      <th>Bus 1</th>\n",
       "      <td>1.0000</td>\n",
       "      <td>0.0000</td>\n",
       "    </tr>\n",
       "    <tr>\n",
       "      <th>Bus 2</th>\n",
       "      <td>0.8338</td>\n",
       "      <td>-22.4064</td>\n",
       "    </tr>\n",
       "    <tr>\n",
       "      <th>Bus 3</th>\n",
       "      <td>1.0500</td>\n",
       "      <td>-0.5973</td>\n",
       "    </tr>\n",
       "    <tr>\n",
       "      <th>Bus 4</th>\n",
       "      <td>1.0193</td>\n",
       "      <td>-2.8340</td>\n",
       "    </tr>\n",
       "    <tr>\n",
       "      <th>Bus 5</th>\n",
       "      <td>0.9743</td>\n",
       "      <td>-4.5479</td>\n",
       "    </tr>\n",
       "  </tbody>\n",
       "</table>\n",
       "</div>"
      ],
      "text/plain": [
       "       Magnitude (pu)  Angle (deg)\n",
       "Bus 1          1.0000       0.0000\n",
       "Bus 2          0.8338     -22.4064\n",
       "Bus 3          1.0500      -0.5973\n",
       "Bus 4          1.0193      -2.8340\n",
       "Bus 5          0.9743      -4.5479"
      ]
     },
     "metadata": {},
     "output_type": "display_data"
    }
   ],
   "source": [
    "V = np.array([1.0, 1.0, 1.05,1.0,1.0])\n",
    "theta = np.radians([0.0, 0.0, 0.0, 0.0, 0.0])\n",
    "P_spec = np.array([0,-8,4.4,0,0])\n",
    "Q_spec = np.array([0,-2.8,-0.4,0,0])\n",
    "\n",
    "slack = [0]\n",
    "pv = [2]\n",
    "pq = [1,3,4]\n",
    "\n",
    "tol = 1e-6\n",
    "max_iter = 200\n",
    "\n",
    "for it in range(max_iter):\n",
    "    P_calc, Q_calc = compute_power(V, theta, Ybus)\n",
    "    dpv = P_spec[pv] - P_calc[pv]\n",
    "    dpq = P_spec[pq] - P_calc[pq]\n",
    "    dP = np.concatenate([dpv, dpq])\n",
    "    dQ = Q_spec[pq] - Q_calc[pq]\n",
    "    mismatch = np.concatenate([dP, dQ])\n",
    "\n",
    "    if np.max(np.abs(mismatch)) < tol:\n",
    "        print(f'Converged in {it} iterations!')\n",
    "        break\n",
    "\n",
    "    J = compute_jacobian(V, theta, Ybus, pv, pq)\n",
    "    dx = np.linalg.solve(J, mismatch)\n",
    "\n",
    "    for i, idx in enumerate(pv + pq):\n",
    "        theta[idx] += dx[i]\n",
    "\n",
    "    for i, idx in enumerate(pq):\n",
    "        V[idx] += dx[len(pv) + len(pq) + i]\n",
    "\n",
    "\n",
    "voltages_df = pd.DataFrame({\n",
    "    'Magnitude (pu)': [round(v, 4) for v in V],\n",
    "    'Angle (deg)': [round(np.degrees(t), 4) for t in theta]\n",
    "}, index=[f'Bus {i+1}' for i in range(len(V))])\n",
    "\n",
    "print(\"Final voltages:\")\n",
    "display(voltages_df)"
   ]
  },
  {
   "cell_type": "code",
   "execution_count": 9,
   "id": "96ec320b",
   "metadata": {},
   "outputs": [
    {
     "name": "stdout",
     "output_type": "stream",
     "text": [
      "Power injections at all buses:\n"
     ]
    },
    {
     "data": {
      "application/vnd.microsoft.datawrangler.viewer.v0+json": {
       "columns": [
        {
         "name": "index",
         "rawType": "object",
         "type": "string"
        },
        {
         "name": "P (pu)",
         "rawType": "float64",
         "type": "float"
        },
        {
         "name": "Q (pu)",
         "rawType": "float64",
         "type": "float"
        }
       ],
       "conversionMethod": "pd.DataFrame",
       "ref": "46ad0545-2f32-46ea-b49a-c0d2914ce7e4",
       "rows": [
        [
         "Bus 1",
         "3.9484",
         "1.1428"
        ],
        [
         "Bus 2",
         "-8.0",
         "-2.8"
        ],
        [
         "Bus 3",
         "4.4",
         "2.9748"
        ],
        [
         "Bus 4",
         "-0.0",
         "0.0"
        ],
        [
         "Bus 5",
         "-0.0",
         "0.0"
        ]
       ],
       "shape": {
        "columns": 2,
        "rows": 5
       }
      },
      "text/html": [
       "<div>\n",
       "<style scoped>\n",
       "    .dataframe tbody tr th:only-of-type {\n",
       "        vertical-align: middle;\n",
       "    }\n",
       "\n",
       "    .dataframe tbody tr th {\n",
       "        vertical-align: top;\n",
       "    }\n",
       "\n",
       "    .dataframe thead th {\n",
       "        text-align: right;\n",
       "    }\n",
       "</style>\n",
       "<table border=\"1\" class=\"dataframe\">\n",
       "  <thead>\n",
       "    <tr style=\"text-align: right;\">\n",
       "      <th></th>\n",
       "      <th>P (pu)</th>\n",
       "      <th>Q (pu)</th>\n",
       "    </tr>\n",
       "  </thead>\n",
       "  <tbody>\n",
       "    <tr>\n",
       "      <th>Bus 1</th>\n",
       "      <td>3.9484</td>\n",
       "      <td>1.1428</td>\n",
       "    </tr>\n",
       "    <tr>\n",
       "      <th>Bus 2</th>\n",
       "      <td>-8.0000</td>\n",
       "      <td>-2.8000</td>\n",
       "    </tr>\n",
       "    <tr>\n",
       "      <th>Bus 3</th>\n",
       "      <td>4.4000</td>\n",
       "      <td>2.9748</td>\n",
       "    </tr>\n",
       "    <tr>\n",
       "      <th>Bus 4</th>\n",
       "      <td>-0.0000</td>\n",
       "      <td>0.0000</td>\n",
       "    </tr>\n",
       "    <tr>\n",
       "      <th>Bus 5</th>\n",
       "      <td>-0.0000</td>\n",
       "      <td>0.0000</td>\n",
       "    </tr>\n",
       "  </tbody>\n",
       "</table>\n",
       "</div>"
      ],
      "text/plain": [
       "       P (pu)  Q (pu)\n",
       "Bus 1  3.9484  1.1428\n",
       "Bus 2 -8.0000 -2.8000\n",
       "Bus 3  4.4000  2.9748\n",
       "Bus 4 -0.0000  0.0000\n",
       "Bus 5 -0.0000  0.0000"
      ]
     },
     "metadata": {},
     "output_type": "display_data"
    }
   ],
   "source": [
    "power_df = pd.DataFrame({\n",
    "    'P (pu)': [round(p, 4) for p in P_calc],\n",
    "    'Q (pu)': [round(q, 4) for q in Q_calc]\n",
    "}, index=[f'Bus {i+1}' for i in range(len(P_calc))])\n",
    "\n",
    "print(\"Power injections at all buses:\")\n",
    "display(power_df)"
   ]
  },
  {
   "cell_type": "code",
   "execution_count": 8,
   "id": "93f5ee22",
   "metadata": {},
   "outputs": [
    {
     "name": "stdout",
     "output_type": "stream",
     "text": [
      "Losses per line:\n"
     ]
    },
    {
     "data": {
      "application/vnd.microsoft.datawrangler.viewer.v0+json": {
       "columns": [
        {
         "name": "index",
         "rawType": "object",
         "type": "string"
        },
        {
         "name": "P_loss (pu)",
         "rawType": "float64",
         "type": "float"
        },
        {
         "name": "Q_loss (pu)",
         "rawType": "float64",
         "type": "float"
        }
       ],
       "conversionMethod": "pd.DataFrame",
       "ref": "f2b96d76-8c91-44b7-8ad7-63405db7753d",
       "rows": [
        [
         "Line 1–5",
         "0.0253",
         "0.3379"
        ],
        [
         "Line 3–4",
         "0.0192",
         "0.2559"
        ],
        [
         "Line 2–4",
         "0.1184",
         "-0.1757"
        ],
        [
         "Line 2–5",
         "0.175",
         "1.2213"
        ],
        [
         "Line 4–5",
         "0.0104",
         "-0.3218"
        ]
       ],
       "shape": {
        "columns": 2,
        "rows": 5
       }
      },
      "text/html": [
       "<div>\n",
       "<style scoped>\n",
       "    .dataframe tbody tr th:only-of-type {\n",
       "        vertical-align: middle;\n",
       "    }\n",
       "\n",
       "    .dataframe tbody tr th {\n",
       "        vertical-align: top;\n",
       "    }\n",
       "\n",
       "    .dataframe thead th {\n",
       "        text-align: right;\n",
       "    }\n",
       "</style>\n",
       "<table border=\"1\" class=\"dataframe\">\n",
       "  <thead>\n",
       "    <tr style=\"text-align: right;\">\n",
       "      <th></th>\n",
       "      <th>P_loss (pu)</th>\n",
       "      <th>Q_loss (pu)</th>\n",
       "    </tr>\n",
       "  </thead>\n",
       "  <tbody>\n",
       "    <tr>\n",
       "      <th>Line 1–5</th>\n",
       "      <td>0.0253</td>\n",
       "      <td>0.3379</td>\n",
       "    </tr>\n",
       "    <tr>\n",
       "      <th>Line 3–4</th>\n",
       "      <td>0.0192</td>\n",
       "      <td>0.2559</td>\n",
       "    </tr>\n",
       "    <tr>\n",
       "      <th>Line 2–4</th>\n",
       "      <td>0.1184</td>\n",
       "      <td>-0.1757</td>\n",
       "    </tr>\n",
       "    <tr>\n",
       "      <th>Line 2–5</th>\n",
       "      <td>0.1750</td>\n",
       "      <td>1.2213</td>\n",
       "    </tr>\n",
       "    <tr>\n",
       "      <th>Line 4–5</th>\n",
       "      <td>0.0104</td>\n",
       "      <td>-0.3218</td>\n",
       "    </tr>\n",
       "  </tbody>\n",
       "</table>\n",
       "</div>"
      ],
      "text/plain": [
       "          P_loss (pu)  Q_loss (pu)\n",
       "Line 1–5       0.0253       0.3379\n",
       "Line 3–4       0.0192       0.2559\n",
       "Line 2–4       0.1184      -0.1757\n",
       "Line 2–5       0.1750       1.2213\n",
       "Line 4–5       0.0104      -0.3218"
      ]
     },
     "metadata": {},
     "output_type": "display_data"
    }
   ],
   "source": [
    "losses = compute_loss(V, theta, impedance, shunt_admittance, node_map)\n",
    "\n",
    "losses_df = pd.DataFrame({\n",
    "    'P_loss (pu)': [round(p, 4) for _, _, p, _ in losses],\n",
    "    'Q_loss (pu)': [round(q, 4) for _, _, _, q in losses]\n",
    "}, index=[f'Line {i}–{k}' for i, k, _, _ in losses])\n",
    "\n",
    "print(\"Losses per line:\")\n",
    "display(losses_df)"
   ]
  }
 ],
 "metadata": {
  "kernelspec": {
   "display_name": "Python 3",
   "language": "python",
   "name": "python3"
  },
  "language_info": {
   "codemirror_mode": {
    "name": "ipython",
    "version": 3
   },
   "file_extension": ".py",
   "mimetype": "text/x-python",
   "name": "python",
   "nbconvert_exporter": "python",
   "pygments_lexer": "ipython3",
   "version": "3.11.9"
  }
 },
 "nbformat": 4,
 "nbformat_minor": 5
}
